{
 "cells": [
  {
   "cell_type": "raw",
   "id": "3de7ce4b-349d-407f-a56e-8108ab4560b0",
   "metadata": {},
   "source": [
    "1. Declare two variables, `x` and `y`, and assign them integer values. Swap the\n",
    "values of these variables without using any temporary variable."
   ]
  },
  {
   "cell_type": "code",
   "execution_count": 9,
   "id": "58ecb4ea-a9e2-413f-914f-1acb47e5fb1c",
   "metadata": {},
   "outputs": [
    {
     "name": "stdin",
     "output_type": "stream",
     "text": [
      "Enter the value of x : 10\n",
      "Enter the value of y : 5\n"
     ]
    },
    {
     "name": "stdout",
     "output_type": "stream",
     "text": [
      "Value of x after swaping 5, Value of y after swaping 10\n"
     ]
    }
   ],
   "source": [
    "x = int(input(\"Enter the value of x :\" ))\n",
    "y = int(input(\"Enter the value of y :\" ))\n",
    "x = x+y\n",
    "y = x-y\n",
    "x = x-y\n",
    "print(f\"Value of x after swaping {x}, Value of y after swaping {y}\")"
   ]
  },
  {
   "cell_type": "raw",
   "id": "19b3c57f-bba9-4de3-971f-a257f42bf3f1",
   "metadata": {},
   "source": [
    "2. Create a program that calculates the area of a rectangle. Take the length and\n",
    "width as inputs from the user and store them in variables. Calculate and\n",
    "display the area."
   ]
  },
  {
   "cell_type": "code",
   "execution_count": 10,
   "id": "c95f2644-8f5a-4033-8361-b94bd8dbe984",
   "metadata": {},
   "outputs": [
    {
     "name": "stdin",
     "output_type": "stream",
     "text": [
      "Enter the length : 10\n",
      "Enter the width : 5\n"
     ]
    },
    {
     "name": "stdout",
     "output_type": "stream",
     "text": [
      "50\n"
     ]
    }
   ],
   "source": [
    "length = int(input(\"Enter the length :\"))\n",
    "width = int(input(\"Enter the width :\"))\n",
    "areaOfRectangle = length * width\n",
    "print(areaOfRectangle)"
   ]
  },
  {
   "cell_type": "raw",
   "id": "3f99f46a-f073-4694-813c-854ce4582cc3",
   "metadata": {},
   "source": [
    "3. Write a Python program that converts temperatures from Celsius to\n",
    "Fahrenheit. Take the temperature in Celsius as input, store it in a variable,\n",
    "convert it to Fahrenheit, and display the result.\n",
    "\n",
    "Formula : (Temp in Celsius scale * 9/5) + 32 = 32°F \n"
   ]
  },
  {
   "cell_type": "code",
   "execution_count": 15,
   "id": "30f3f819-2904-48a1-92e7-61a2cf737255",
   "metadata": {},
   "outputs": [
    {
     "name": "stdin",
     "output_type": "stream",
     "text": [
      "Enter the temperature in Celsius : 52.5\n"
     ]
    },
    {
     "name": "stdout",
     "output_type": "stream",
     "text": [
      "Temperature in Fahreheit after convertion :126.5\n"
     ]
    }
   ],
   "source": [
    "tempInCelsius = float(input(\"Enter the temperature in Celsius :\"))\n",
    "conToDegF = (tempInCelsius * 9/5) + 32\n",
    "print(f\"Temperature in Fahreheit after convertion :{conToDegF}\" )"
   ]
  },
  {
   "cell_type": "raw",
   "id": "b58e57e9-41ed-49dd-aa20-230819a43c0f",
   "metadata": {},
   "source": [
    "\n",
    "*   STRING BASED QUESTIONS\n"
   ]
  },
  {
   "cell_type": "raw",
   "id": "6a9f4f08-da4c-4c0c-8587-0dd54cfd134f",
   "metadata": {},
   "source": [
    "1. Write a Python program that takes a string as input and prints the length of\n",
    "the string."
   ]
  },
  {
   "cell_type": "code",
   "execution_count": 18,
   "id": "928d80b6-32e4-42a2-a0f5-fc06a6c9bcca",
   "metadata": {},
   "outputs": [
    {
     "name": "stdin",
     "output_type": "stream",
     "text": [
      "Enter the string input :  \" Hello 22@#   \n"
     ]
    },
    {
     "name": "stdout",
     "output_type": "stream",
     "text": [
      "15\n"
     ]
    }
   ],
   "source": [
    "inputStr = input(\"Enter the string input : \")\n",
    "print(len(inputStr))"
   ]
  },
  {
   "cell_type": "raw",
   "id": "35b592a4-ace3-42bc-a5ee-3dc00083de85",
   "metadata": {},
   "source": [
    "2. Create a program that takes a sentence from the user and counts the number\n",
    "of vowels (a, e, i, o, u) in the string."
   ]
  },
  {
   "cell_type": "code",
   "execution_count": 35,
   "id": "211d539f-cf2d-42a7-aed5-b1b05b1cc0c1",
   "metadata": {},
   "outputs": [
    {
     "name": "stdin",
     "output_type": "stream",
     "text": [
      " Hello\n"
     ]
    },
    {
     "name": "stdout",
     "output_type": "stream",
     "text": [
      "2\n"
     ]
    }
   ],
   "source": [
    "str = input()\n",
    "newStr = str.lower()\n",
    "count = 0\n",
    "\n",
    "# for i in range(len(str)) :\n",
    "#     if newStr[i] == 'a' or  newStr[i] == 'e' or  newStr[i] == 'i' or  newStr[i] == 'o' or  newStr[i] == 'u':\n",
    "#         count += 1\n",
    "\n",
    "for i in range(len(str)) :\n",
    "    if newStr[i] in \"aeiou\":\n",
    "        count += 1\n",
    "print(count)"
   ]
  },
  {
   "cell_type": "raw",
   "id": "f2764581-003a-41c2-b5ca-73a765caa637",
   "metadata": {},
   "source": [
    "3. Given a string, reverse the order of characters using string slicing and print\n",
    "the reversed string."
   ]
  },
  {
   "cell_type": "code",
   "execution_count": 40,
   "id": "43878046-d007-4be6-bd97-b537b2f32670",
   "metadata": {},
   "outputs": [
    {
     "name": "stdin",
     "output_type": "stream",
     "text": [
      "Enter the string : Hello\n"
     ]
    },
    {
     "name": "stdout",
     "output_type": "stream",
     "text": [
      "olleH\n"
     ]
    }
   ],
   "source": [
    "str = input(\"Enter the string :\")\n",
    "reverse_str = str[::-1]\n",
    "print(reverse_str)"
   ]
  },
  {
   "cell_type": "raw",
   "id": "b7a9ec5c-ea73-44ce-970a-27bd590c6db3",
   "metadata": {},
   "source": [
    "4. Write a program that takes a string as input and checks if it is a palindrome\n",
    "(reads the same forwards and backwards)."
   ]
  },
  {
   "cell_type": "code",
   "execution_count": 44,
   "id": "18e86e0e-e972-4fec-ab41-71d145dc9670",
   "metadata": {},
   "outputs": [
    {
     "name": "stdin",
     "output_type": "stream",
     "text": [
      "Enter the string : HlH\n"
     ]
    },
    {
     "name": "stdout",
     "output_type": "stream",
     "text": [
      "Given string is a palindrome\n"
     ]
    }
   ],
   "source": [
    "str = input(\"Enter the string :\")\n",
    "reverse_str = str[::-1]\n",
    "\n",
    "if str == reverse_str :\n",
    "    print(\"Given string is a palindrome\")\n",
    "else : \n",
    "    print(\"Given string is not a palindrome\")"
   ]
  },
  {
   "cell_type": "raw",
   "id": "1390faf3-3b62-49bb-8ab8-aeae8ac28373",
   "metadata": {},
   "source": [
    "5. Create a program that takes a string as input and removes all the spaces from\n",
    "it. Print the modified string without spaces."
   ]
  },
  {
   "cell_type": "code",
   "execution_count": 47,
   "id": "442286ed-3d91-4e01-84a9-2ec2c0ad2292",
   "metadata": {},
   "outputs": [
    {
     "name": "stdin",
     "output_type": "stream",
     "text": [
      "Enter the string : \"HEllo \"\"\"   World\n"
     ]
    },
    {
     "name": "stdout",
     "output_type": "stream",
     "text": [
      "\"HEllo\"\"\"World\n"
     ]
    }
   ],
   "source": [
    "str = input(\"Enter the string :\")\n",
    "new_str = str.replace(\" \",\"\")\n",
    "print(new_str)"
   ]
  },
  {
   "cell_type": "code",
   "execution_count": null,
   "id": "e3ad383e-ee14-4022-b0a4-4361ae8f53d6",
   "metadata": {},
   "outputs": [],
   "source": []
  }
 ],
 "metadata": {
  "kernelspec": {
   "display_name": "Python 3 (ipykernel)",
   "language": "python",
   "name": "python3"
  },
  "language_info": {
   "codemirror_mode": {
    "name": "ipython",
    "version": 3
   },
   "file_extension": ".py",
   "mimetype": "text/x-python",
   "name": "python",
   "nbconvert_exporter": "python",
   "pygments_lexer": "ipython3",
   "version": "3.10.8"
  }
 },
 "nbformat": 4,
 "nbformat_minor": 5
}
